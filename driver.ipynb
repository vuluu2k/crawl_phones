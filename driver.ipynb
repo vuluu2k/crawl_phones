{
 "cells": [
  {
   "cell_type": "code",
   "execution_count": 26,
   "metadata": {},
   "outputs": [
    {
     "name": "stdout",
     "output_type": "stream",
     "text": [
      "Number of folders: 28\n",
      "Name device: Huawei Nova 9\n",
      "File name: anh1.png\n",
      "in here\n",
      "Đang hiển thị người xem.\n",
      "https://lh3.googleusercontent.com/u/0/d/1z9WLrHvoc9VHjepPZAsWqzfiZ3A3cPOt=w1200-h1168-iv2\n",
      "Đóng biểu ngữ\n"
     ]
    },
    {
     "ename": "ElementNotInteractableException",
     "evalue": "Message: element not interactable\n  (Session info: chrome=124.0.6367.208)\nStacktrace:\n0   chromedriver                        0x0000000104ce6940 chromedriver + 4368704\n1   chromedriver                        0x0000000104cdedd4 chromedriver + 4337108\n2   chromedriver                        0x0000000104902a68 chromedriver + 289384\n3   chromedriver                        0x0000000104945eac chromedriver + 564908\n4   chromedriver                        0x000000010493b940 chromedriver + 522560\n5   chromedriver                        0x000000010493b368 chromedriver + 521064\n6   chromedriver                        0x000000010497d5ec chromedriver + 792044\n7   chromedriver                        0x0000000104939ab4 chromedriver + 514740\n8   chromedriver                        0x000000010493a50c chromedriver + 517388\n9   chromedriver                        0x0000000104caae5c chromedriver + 4124252\n10  chromedriver                        0x0000000104cafc4c chromedriver + 4144204\n11  chromedriver                        0x0000000104c90824 chromedriver + 4016164\n12  chromedriver                        0x0000000104cb057c chromedriver + 4146556\n13  chromedriver                        0x0000000104c822d8 chromedriver + 3957464\n14  chromedriver                        0x0000000104ccfec4 chromedriver + 4275908\n15  chromedriver                        0x0000000104cd0040 chromedriver + 4276288\n16  chromedriver                        0x0000000104cdea34 chromedriver + 4336180\n17  libsystem_pthread.dylib             0x0000000191e1ef94 _pthread_start + 136\n18  libsystem_pthread.dylib             0x0000000191e19d34 thread_start + 8\n",
     "output_type": "error",
     "traceback": [
      "\u001b[0;31m---------------------------------------------------------------------------\u001b[0m",
      "\u001b[0;31mElementNotInteractableException\u001b[0m           Traceback (most recent call last)",
      "Cell \u001b[0;32mIn[26], line 47\u001b[0m\n\u001b[1;32m     45\u001b[0m     close_btn \u001b[38;5;241m=\u001b[39m viewer\u001b[38;5;241m.\u001b[39mfind_element(By\u001b[38;5;241m.\u001b[39mCSS_SELECTOR, \u001b[38;5;124m\"\u001b[39m\u001b[38;5;124m[aria-label~=\u001b[39m\u001b[38;5;124m'\u001b[39m\u001b[38;5;124mĐóng\u001b[39m\u001b[38;5;124m'\u001b[39m\u001b[38;5;124m]\u001b[39m\u001b[38;5;124m\"\u001b[39m)\n\u001b[1;32m     46\u001b[0m     \u001b[38;5;28mprint\u001b[39m(close_btn\u001b[38;5;241m.\u001b[39mget_attribute(\u001b[38;5;124m\"\u001b[39m\u001b[38;5;124maria-label\u001b[39m\u001b[38;5;124m\"\u001b[39m))\n\u001b[0;32m---> 47\u001b[0m     \u001b[43mclose_btn\u001b[49m\u001b[38;5;241;43m.\u001b[39;49m\u001b[43mclick\u001b[49m\u001b[43m(\u001b[49m\u001b[43m)\u001b[49m\n\u001b[1;32m     50\u001b[0m driver\u001b[38;5;241m.\u001b[39mclose()\n\u001b[1;32m     51\u001b[0m driver\u001b[38;5;241m.\u001b[39mswitch_to\u001b[38;5;241m.\u001b[39mwindow(driver\u001b[38;5;241m.\u001b[39mwindow_handles[\u001b[38;5;241m0\u001b[39m])\n",
      "File \u001b[0;32m~/Documents/web_cake/crawl_phones/venv/lib/python3.12/site-packages/selenium/webdriver/remote/webelement.py:94\u001b[0m, in \u001b[0;36mWebElement.click\u001b[0;34m(self)\u001b[0m\n\u001b[1;32m     92\u001b[0m \u001b[38;5;28;01mdef\u001b[39;00m \u001b[38;5;21mclick\u001b[39m(\u001b[38;5;28mself\u001b[39m) \u001b[38;5;241m-\u001b[39m\u001b[38;5;241m>\u001b[39m \u001b[38;5;28;01mNone\u001b[39;00m:\n\u001b[1;32m     93\u001b[0m \u001b[38;5;250m    \u001b[39m\u001b[38;5;124;03m\"\"\"Clicks the element.\"\"\"\u001b[39;00m\n\u001b[0;32m---> 94\u001b[0m     \u001b[38;5;28;43mself\u001b[39;49m\u001b[38;5;241;43m.\u001b[39;49m\u001b[43m_execute\u001b[49m\u001b[43m(\u001b[49m\u001b[43mCommand\u001b[49m\u001b[38;5;241;43m.\u001b[39;49m\u001b[43mCLICK_ELEMENT\u001b[49m\u001b[43m)\u001b[49m\n",
      "File \u001b[0;32m~/Documents/web_cake/crawl_phones/venv/lib/python3.12/site-packages/selenium/webdriver/remote/webelement.py:395\u001b[0m, in \u001b[0;36mWebElement._execute\u001b[0;34m(self, command, params)\u001b[0m\n\u001b[1;32m    393\u001b[0m     params \u001b[38;5;241m=\u001b[39m {}\n\u001b[1;32m    394\u001b[0m params[\u001b[38;5;124m\"\u001b[39m\u001b[38;5;124mid\u001b[39m\u001b[38;5;124m\"\u001b[39m] \u001b[38;5;241m=\u001b[39m \u001b[38;5;28mself\u001b[39m\u001b[38;5;241m.\u001b[39m_id\n\u001b[0;32m--> 395\u001b[0m \u001b[38;5;28;01mreturn\u001b[39;00m \u001b[38;5;28;43mself\u001b[39;49m\u001b[38;5;241;43m.\u001b[39;49m\u001b[43m_parent\u001b[49m\u001b[38;5;241;43m.\u001b[39;49m\u001b[43mexecute\u001b[49m\u001b[43m(\u001b[49m\u001b[43mcommand\u001b[49m\u001b[43m,\u001b[49m\u001b[43m \u001b[49m\u001b[43mparams\u001b[49m\u001b[43m)\u001b[49m\n",
      "File \u001b[0;32m~/Documents/web_cake/crawl_phones/venv/lib/python3.12/site-packages/selenium/webdriver/remote/webdriver.py:347\u001b[0m, in \u001b[0;36mWebDriver.execute\u001b[0;34m(self, driver_command, params)\u001b[0m\n\u001b[1;32m    345\u001b[0m response \u001b[38;5;241m=\u001b[39m \u001b[38;5;28mself\u001b[39m\u001b[38;5;241m.\u001b[39mcommand_executor\u001b[38;5;241m.\u001b[39mexecute(driver_command, params)\n\u001b[1;32m    346\u001b[0m \u001b[38;5;28;01mif\u001b[39;00m response:\n\u001b[0;32m--> 347\u001b[0m     \u001b[38;5;28;43mself\u001b[39;49m\u001b[38;5;241;43m.\u001b[39;49m\u001b[43merror_handler\u001b[49m\u001b[38;5;241;43m.\u001b[39;49m\u001b[43mcheck_response\u001b[49m\u001b[43m(\u001b[49m\u001b[43mresponse\u001b[49m\u001b[43m)\u001b[49m\n\u001b[1;32m    348\u001b[0m     response[\u001b[38;5;124m\"\u001b[39m\u001b[38;5;124mvalue\u001b[39m\u001b[38;5;124m\"\u001b[39m] \u001b[38;5;241m=\u001b[39m \u001b[38;5;28mself\u001b[39m\u001b[38;5;241m.\u001b[39m_unwrap_value(response\u001b[38;5;241m.\u001b[39mget(\u001b[38;5;124m\"\u001b[39m\u001b[38;5;124mvalue\u001b[39m\u001b[38;5;124m\"\u001b[39m, \u001b[38;5;28;01mNone\u001b[39;00m))\n\u001b[1;32m    349\u001b[0m     \u001b[38;5;28;01mreturn\u001b[39;00m response\n",
      "File \u001b[0;32m~/Documents/web_cake/crawl_phones/venv/lib/python3.12/site-packages/selenium/webdriver/remote/errorhandler.py:229\u001b[0m, in \u001b[0;36mErrorHandler.check_response\u001b[0;34m(self, response)\u001b[0m\n\u001b[1;32m    227\u001b[0m         alert_text \u001b[38;5;241m=\u001b[39m value[\u001b[38;5;124m\"\u001b[39m\u001b[38;5;124malert\u001b[39m\u001b[38;5;124m\"\u001b[39m]\u001b[38;5;241m.\u001b[39mget(\u001b[38;5;124m\"\u001b[39m\u001b[38;5;124mtext\u001b[39m\u001b[38;5;124m\"\u001b[39m)\n\u001b[1;32m    228\u001b[0m     \u001b[38;5;28;01mraise\u001b[39;00m exception_class(message, screen, stacktrace, alert_text)  \u001b[38;5;66;03m# type: ignore[call-arg]  # mypy is not smart enough here\u001b[39;00m\n\u001b[0;32m--> 229\u001b[0m \u001b[38;5;28;01mraise\u001b[39;00m exception_class(message, screen, stacktrace)\n",
      "\u001b[0;31mElementNotInteractableException\u001b[0m: Message: element not interactable\n  (Session info: chrome=124.0.6367.208)\nStacktrace:\n0   chromedriver                        0x0000000104ce6940 chromedriver + 4368704\n1   chromedriver                        0x0000000104cdedd4 chromedriver + 4337108\n2   chromedriver                        0x0000000104902a68 chromedriver + 289384\n3   chromedriver                        0x0000000104945eac chromedriver + 564908\n4   chromedriver                        0x000000010493b940 chromedriver + 522560\n5   chromedriver                        0x000000010493b368 chromedriver + 521064\n6   chromedriver                        0x000000010497d5ec chromedriver + 792044\n7   chromedriver                        0x0000000104939ab4 chromedriver + 514740\n8   chromedriver                        0x000000010493a50c chromedriver + 517388\n9   chromedriver                        0x0000000104caae5c chromedriver + 4124252\n10  chromedriver                        0x0000000104cafc4c chromedriver + 4144204\n11  chromedriver                        0x0000000104c90824 chromedriver + 4016164\n12  chromedriver                        0x0000000104cb057c chromedriver + 4146556\n13  chromedriver                        0x0000000104c822d8 chromedriver + 3957464\n14  chromedriver                        0x0000000104ccfec4 chromedriver + 4275908\n15  chromedriver                        0x0000000104cd0040 chromedriver + 4276288\n16  chromedriver                        0x0000000104cdea34 chromedriver + 4336180\n17  libsystem_pthread.dylib             0x0000000191e1ef94 _pthread_start + 136\n18  libsystem_pthread.dylib             0x0000000191e19d34 thread_start + 8\n"
     ]
    }
   ],
   "source": [
    "from selenium import webdriver\n",
    "from selenium.webdriver.common.by import By\n",
    "from selenium.webdriver.support.ui import WebDriverWait\n",
    "from selenium.webdriver.support import expected_conditions as EC\n",
    "import time\n",
    "\n",
    "init_link = \"https://drive.google.com/drive/folders/\"\n",
    "folder_id = \"1EDFA7aA8Exwv6H8A_XJj0_Yiw0YrW5Ix\"\n",
    "link = init_link + folder_id\n",
    "\n",
    "driver = webdriver.Chrome()\n",
    "wait = WebDriverWait(driver, 30)\n",
    "driver.get(link)\n",
    "\n",
    "wait.until(EC.presence_of_all_elements_located((By.CSS_SELECTOR, \"c-wiz > div[data-id]\")))\n",
    "folders = driver.find_elements(By.CSS_SELECTOR, \"c-wiz > div[data-id]\")\n",
    "\n",
    "print(f\"Number of folders: {len(folders)}\")\n",
    "\n",
    "for folder in folders:\n",
    "    data_id = folder.get_attribute(\"data-id\")\n",
    "    folder_label = folder.find_element(By.CSS_SELECTOR, \"div[data-tooltip]\").text\n",
    "    print(f\"Name device: {folder_label}\")\n",
    "    folder_link = init_link + data_id\n",
    "    driver.execute_script(\"window.open('');\")\n",
    "    driver.switch_to.window(driver.window_handles[1])\n",
    "    driver.get(folder_link)\n",
    "    wait.until(EC.presence_of_all_elements_located((By.CSS_SELECTOR, \"c-wiz > div[data-id]\")))\n",
    "    files = driver.find_elements(By.CSS_SELECTOR, \"c-wiz > div[data-id]\")\n",
    "    time.sleep(1)\n",
    "    for file in files:\n",
    "        file_label = file.find_element(By.CSS_SELECTOR, \"div[data-column-field='6'] > div[jsaction]\").text\n",
    "        print(f\"File name: {file_label}\")\n",
    "        file.click()\n",
    "        print('in here')\n",
    "        time.sleep(1) \n",
    "        wait.until(EC.presence_of_all_elements_located((By.CSS_SELECTOR, f\"div[aria-label~='{file_label}']\")))\n",
    "        viewer = driver.find_element(By.CSS_SELECTOR, \"[role='dialog']\")\n",
    "        wait.until(EC.presence_of_all_elements_located((By.CSS_SELECTOR, f\"img[alt~='{file_label}']\")))\n",
    "        print(viewer.get_attribute(\"aria-label\"))\n",
    "\n",
    "        image = viewer.find_element(By.CSS_SELECTOR, f\"img[alt~='{file_label}']\")\n",
    "        image_url = image.get_attribute(\"src\")\n",
    "        print(image_url)\n",
    "        close_btn = viewer.find_element(By.CSS_SELECTOR, \"[aria-label='Đóng']\")\n",
    "        close_btn.click()\n",
    "        \n",
    "\n",
    "    driver.close()\n",
    "    driver.switch_to.window(driver.window_handles[0])\n",
    "\n",
    "driver.quit()\n"
   ]
  }
 ],
 "metadata": {
  "kernelspec": {
   "display_name": "venv",
   "language": "python",
   "name": "python3"
  },
  "language_info": {
   "codemirror_mode": {
    "name": "ipython",
    "version": 3
   },
   "file_extension": ".py",
   "mimetype": "text/x-python",
   "name": "python",
   "nbconvert_exporter": "python",
   "pygments_lexer": "ipython3",
   "version": "3.12.3"
  }
 },
 "nbformat": 4,
 "nbformat_minor": 2
}
